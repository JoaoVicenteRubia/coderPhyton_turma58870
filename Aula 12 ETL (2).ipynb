{
 "cells": [
  {
   "attachments": {},
   "cell_type": "markdown",
   "metadata": {},
   "source": [
    "# ETL"
   ]
  },
  {
   "cell_type": "code",
   "execution_count": 1,
   "metadata": {},
   "outputs": [],
   "source": [
    "import numpy as np\n",
    "import pandas as pd\n",
    "import requests \n",
    "\n",
    "#pip install requests"
   ]
  },
  {
   "cell_type": "code",
   "execution_count": 2,
   "metadata": {},
   "outputs": [],
   "source": [
    "ceps = ['41720060', '09715022', '41720062']\n",
    "# url = f'https://brasilapi.com.br/api/cep/v1/{ceps}'\n",
    "responses = list()\n",
    "for cep in ceps:\n",
    "    url = f'https://brasilapi.com.br/api/cep/v1/{cep}'\n",
    "    response = requests.get(url)\n",
    "    responses.append(response)"
   ]
  },
  {
   "cell_type": "code",
   "execution_count": 3,
   "metadata": {},
   "outputs": [
    {
     "data": {
      "text/plain": [
       "3"
      ]
     },
     "execution_count": 3,
     "metadata": {},
     "output_type": "execute_result"
    }
   ],
   "source": [
    "len(responses)"
   ]
  },
  {
   "cell_type": "code",
   "execution_count": 4,
   "metadata": {},
   "outputs": [
    {
     "data": {
      "text/plain": [
       "200"
      ]
     },
     "execution_count": 4,
     "metadata": {},
     "output_type": "execute_result"
    }
   ],
   "source": [
    "responses[0].status_code"
   ]
  },
  {
   "cell_type": "code",
   "execution_count": 5,
   "metadata": {},
   "outputs": [],
   "source": [
    "data = responses[0].json()"
   ]
  },
  {
   "cell_type": "code",
   "execution_count": 9,
   "metadata": {},
   "outputs": [
    {
     "data": {
      "text/html": [
       "<div>\n",
       "<style scoped>\n",
       "    .dataframe tbody tr th:only-of-type {\n",
       "        vertical-align: middle;\n",
       "    }\n",
       "\n",
       "    .dataframe tbody tr th {\n",
       "        vertical-align: top;\n",
       "    }\n",
       "\n",
       "    .dataframe thead th {\n",
       "        text-align: right;\n",
       "    }\n",
       "</style>\n",
       "<table border=\"1\" class=\"dataframe\">\n",
       "  <thead>\n",
       "    <tr style=\"text-align: right;\">\n",
       "      <th></th>\n",
       "      <th>cep</th>\n",
       "      <th>state</th>\n",
       "      <th>city</th>\n",
       "      <th>neighborhood</th>\n",
       "      <th>street</th>\n",
       "      <th>service</th>\n",
       "    </tr>\n",
       "  </thead>\n",
       "  <tbody>\n",
       "    <tr>\n",
       "      <th>0</th>\n",
       "      <td>41720060</td>\n",
       "      <td>BA</td>\n",
       "      <td>Salvador</td>\n",
       "      <td>Imbuí</td>\n",
       "      <td>Rua dos Colibris</td>\n",
       "      <td>open-cep</td>\n",
       "    </tr>\n",
       "  </tbody>\n",
       "</table>\n",
       "</div>"
      ],
      "text/plain": [
       "        cep state      city neighborhood            street   service\n",
       "0  41720060    BA  Salvador        Imbuí  Rua dos Colibris  open-cep"
      ]
     },
     "execution_count": 9,
     "metadata": {},
     "output_type": "execute_result"
    }
   ],
   "source": [
    "## exemplo que o Alisson Citou:\n",
    "\n",
    "dataframe = pd.DataFrame.from_dict(data=data, orient='index').T\n",
    "dataframe"
   ]
  },
  {
   "cell_type": "code",
   "execution_count": 10,
   "metadata": {},
   "outputs": [
    {
     "name": "stdout",
     "output_type": "stream",
     "text": [
      "404\n"
     ]
    }
   ],
   "source": [
    "df_full = pd.DataFrame(\n",
    "    {\n",
    "        'cep': [np.nan],\n",
    "        'state': [np.nan],\n",
    "        'city': [np.nan],\n",
    "        'neighborhood': [np.nan],\n",
    "        'street': [np.nan],\n",
    "        'service': [np.nan],\n",
    "    }\n",
    ")\n",
    "for n in range(len(responses)):\n",
    "    ## PARSE\n",
    "    if responses[n].status_code == 200:\n",
    "        data = responses[n].json()\n",
    "        df = pd.DataFrame(\n",
    "            {\n",
    "                'cep': [data['cep']],\n",
    "                'state': [data['state']],\n",
    "                'city': [data['city']],\n",
    "                'neighborhood': [data['neighborhood']],\n",
    "                'street': [data['street']],\n",
    "                'service': [data['service']],\n",
    "            }\n",
    "        )\n",
    "        df_full = pd.concat([df_full, df])\n",
    "    else:\n",
    "        print(responses[n].status_code)\n",
    "\n",
    "df_full = df_full.dropna()"
   ]
  },
  {
   "cell_type": "code",
   "execution_count": 11,
   "metadata": {},
   "outputs": [
    {
     "data": {
      "text/html": [
       "<div>\n",
       "<style scoped>\n",
       "    .dataframe tbody tr th:only-of-type {\n",
       "        vertical-align: middle;\n",
       "    }\n",
       "\n",
       "    .dataframe tbody tr th {\n",
       "        vertical-align: top;\n",
       "    }\n",
       "\n",
       "    .dataframe thead th {\n",
       "        text-align: right;\n",
       "    }\n",
       "</style>\n",
       "<table border=\"1\" class=\"dataframe\">\n",
       "  <thead>\n",
       "    <tr style=\"text-align: right;\">\n",
       "      <th></th>\n",
       "      <th>cep</th>\n",
       "      <th>state</th>\n",
       "      <th>city</th>\n",
       "      <th>neighborhood</th>\n",
       "      <th>street</th>\n",
       "      <th>service</th>\n",
       "    </tr>\n",
       "  </thead>\n",
       "  <tbody>\n",
       "    <tr>\n",
       "      <th>0</th>\n",
       "      <td>41720060</td>\n",
       "      <td>BA</td>\n",
       "      <td>Salvador</td>\n",
       "      <td>Imbuí</td>\n",
       "      <td>Rua dos Colibris</td>\n",
       "      <td>open-cep</td>\n",
       "    </tr>\n",
       "    <tr>\n",
       "      <th>0</th>\n",
       "      <td>09715022</td>\n",
       "      <td>SP</td>\n",
       "      <td>São Bernardo do Campo</td>\n",
       "      <td>Centro</td>\n",
       "      <td>Rua Américo Brasiliense</td>\n",
       "      <td>open-cep</td>\n",
       "    </tr>\n",
       "  </tbody>\n",
       "</table>\n",
       "</div>"
      ],
      "text/plain": [
       "        cep state                   city neighborhood  \\\n",
       "0  41720060    BA               Salvador        Imbuí   \n",
       "0  09715022    SP  São Bernardo do Campo       Centro   \n",
       "\n",
       "                    street   service  \n",
       "0         Rua dos Colibris  open-cep  \n",
       "0  Rua Américo Brasiliense  open-cep  "
      ]
     },
     "execution_count": 11,
     "metadata": {},
     "output_type": "execute_result"
    }
   ],
   "source": [
    "df_full"
   ]
  },
  {
   "cell_type": "code",
   "execution_count": 12,
   "metadata": {},
   "outputs": [],
   "source": [
    "url = \"https://restcountries.com/v3.1/all\"\n",
    "response = requests.get(url)"
   ]
  },
  {
   "cell_type": "code",
   "execution_count": 13,
   "metadata": {},
   "outputs": [],
   "source": [
    "if response.status_code == 200:\n",
    "    data_json = response.json()\n",
    "else:\n",
    "    print(f\"Erro ao acessar a API, erro = {response.status_code}\")"
   ]
  },
  {
   "cell_type": "code",
   "execution_count": 72,
   "metadata": {},
   "outputs": [
    {
     "data": {
      "text/html": [
       "<div>\n",
       "<style scoped>\n",
       "    .dataframe tbody tr th:only-of-type {\n",
       "        vertical-align: middle;\n",
       "    }\n",
       "\n",
       "    .dataframe tbody tr th {\n",
       "        vertical-align: top;\n",
       "    }\n",
       "\n",
       "    .dataframe thead th {\n",
       "        text-align: right;\n",
       "    }\n",
       "</style>\n",
       "<table border=\"1\" class=\"dataframe\">\n",
       "  <thead>\n",
       "    <tr style=\"text-align: right;\">\n",
       "      <th></th>\n",
       "      <th>name</th>\n",
       "      <th>tld</th>\n",
       "      <th>cca2</th>\n",
       "      <th>ccn3</th>\n",
       "      <th>cca3</th>\n",
       "      <th>independent</th>\n",
       "      <th>status</th>\n",
       "      <th>unMember</th>\n",
       "      <th>currencies</th>\n",
       "      <th>idd</th>\n",
       "      <th>...</th>\n",
       "      <th>continents</th>\n",
       "      <th>flags</th>\n",
       "      <th>coatOfArms</th>\n",
       "      <th>startOfWeek</th>\n",
       "      <th>capitalInfo</th>\n",
       "      <th>postalCode</th>\n",
       "      <th>cioc</th>\n",
       "      <th>gini</th>\n",
       "      <th>fifa</th>\n",
       "      <th>borders</th>\n",
       "    </tr>\n",
       "  </thead>\n",
       "  <tbody>\n",
       "    <tr>\n",
       "      <th>0</th>\n",
       "      <td>{'common': 'Wallis and Futuna', 'official': 'T...</td>\n",
       "      <td>[.wf]</td>\n",
       "      <td>WF</td>\n",
       "      <td>876</td>\n",
       "      <td>WLF</td>\n",
       "      <td>False</td>\n",
       "      <td>officially-assigned</td>\n",
       "      <td>False</td>\n",
       "      <td>{'XPF': {'name': 'CFP franc', 'symbol': '₣'}}</td>\n",
       "      <td>{'root': '+6', 'suffixes': ['81']}</td>\n",
       "      <td>...</td>\n",
       "      <td>[Oceania]</td>\n",
       "      <td>{'png': 'https://flagcdn.com/w320/wf.png', 'sv...</td>\n",
       "      <td>{}</td>\n",
       "      <td>monday</td>\n",
       "      <td>{'latlng': [-13.95, -171.93]}</td>\n",
       "      <td>{'format': '#####', 'regex': '^(986\\d{2})$'}</td>\n",
       "      <td>NaN</td>\n",
       "      <td>NaN</td>\n",
       "      <td>NaN</td>\n",
       "      <td>NaN</td>\n",
       "    </tr>\n",
       "    <tr>\n",
       "      <th>1</th>\n",
       "      <td>{'common': 'Iceland', 'official': 'Iceland', '...</td>\n",
       "      <td>[.is]</td>\n",
       "      <td>IS</td>\n",
       "      <td>352</td>\n",
       "      <td>ISL</td>\n",
       "      <td>True</td>\n",
       "      <td>officially-assigned</td>\n",
       "      <td>True</td>\n",
       "      <td>{'ISK': {'name': 'Icelandic króna', 'symbol': ...</td>\n",
       "      <td>{'root': '+3', 'suffixes': ['54']}</td>\n",
       "      <td>...</td>\n",
       "      <td>[Europe]</td>\n",
       "      <td>{'png': 'https://flagcdn.com/w320/is.png', 'sv...</td>\n",
       "      <td>{'png': 'https://mainfacts.com/media/images/co...</td>\n",
       "      <td>monday</td>\n",
       "      <td>{'latlng': [64.15, -21.95]}</td>\n",
       "      <td>{'format': '###', 'regex': '^(\\d{3})$'}</td>\n",
       "      <td>ISL</td>\n",
       "      <td>{'2017': 26.1}</td>\n",
       "      <td>ISL</td>\n",
       "      <td>NaN</td>\n",
       "    </tr>\n",
       "  </tbody>\n",
       "</table>\n",
       "<p>2 rows × 35 columns</p>\n",
       "</div>"
      ],
      "text/plain": [
       "                                                name    tld cca2 ccn3 cca3  \\\n",
       "0  {'common': 'Wallis and Futuna', 'official': 'T...  [.wf]   WF  876  WLF   \n",
       "1  {'common': 'Iceland', 'official': 'Iceland', '...  [.is]   IS  352  ISL   \n",
       "\n",
       "  independent               status  unMember  \\\n",
       "0       False  officially-assigned     False   \n",
       "1        True  officially-assigned      True   \n",
       "\n",
       "                                          currencies  \\\n",
       "0      {'XPF': {'name': 'CFP franc', 'symbol': '₣'}}   \n",
       "1  {'ISK': {'name': 'Icelandic króna', 'symbol': ...   \n",
       "\n",
       "                                  idd  ... continents  \\\n",
       "0  {'root': '+6', 'suffixes': ['81']}  ...  [Oceania]   \n",
       "1  {'root': '+3', 'suffixes': ['54']}  ...   [Europe]   \n",
       "\n",
       "                                               flags  \\\n",
       "0  {'png': 'https://flagcdn.com/w320/wf.png', 'sv...   \n",
       "1  {'png': 'https://flagcdn.com/w320/is.png', 'sv...   \n",
       "\n",
       "                                          coatOfArms startOfWeek  \\\n",
       "0                                                 {}      monday   \n",
       "1  {'png': 'https://mainfacts.com/media/images/co...      monday   \n",
       "\n",
       "                     capitalInfo  \\\n",
       "0  {'latlng': [-13.95, -171.93]}   \n",
       "1    {'latlng': [64.15, -21.95]}   \n",
       "\n",
       "                                     postalCode cioc            gini  fifa  \\\n",
       "0  {'format': '#####', 'regex': '^(986\\d{2})$'}  NaN             NaN   NaN   \n",
       "1       {'format': '###', 'regex': '^(\\d{3})$'}  ISL  {'2017': 26.1}   ISL   \n",
       "\n",
       "  borders  \n",
       "0     NaN  \n",
       "1     NaN  \n",
       "\n",
       "[2 rows x 35 columns]"
      ]
     },
     "execution_count": 72,
     "metadata": {},
     "output_type": "execute_result"
    }
   ],
   "source": [
    "data = pd.DataFrame(data_json)\n",
    "data.head(2)"
   ]
  },
  {
   "cell_type": "code",
   "execution_count": 74,
   "metadata": {},
   "outputs": [
    {
     "data": {
      "text/html": [
       "<div>\n",
       "<style scoped>\n",
       "    .dataframe tbody tr th:only-of-type {\n",
       "        vertical-align: middle;\n",
       "    }\n",
       "\n",
       "    .dataframe tbody tr th {\n",
       "        vertical-align: top;\n",
       "    }\n",
       "\n",
       "    .dataframe thead th {\n",
       "        text-align: right;\n",
       "    }\n",
       "</style>\n",
       "<table border=\"1\" class=\"dataframe\">\n",
       "  <thead>\n",
       "    <tr style=\"text-align: right;\">\n",
       "      <th></th>\n",
       "      <th>Nome</th>\n",
       "      <th>Regiao</th>\n",
       "      <th>Populacao</th>\n",
       "    </tr>\n",
       "  </thead>\n",
       "  <tbody>\n",
       "    <tr>\n",
       "      <th>0</th>\n",
       "      <td>Wallis and Futuna</td>\n",
       "      <td>Oceania</td>\n",
       "      <td>11750</td>\n",
       "    </tr>\n",
       "    <tr>\n",
       "      <th>1</th>\n",
       "      <td>Iceland</td>\n",
       "      <td>Europe</td>\n",
       "      <td>366425</td>\n",
       "    </tr>\n",
       "    <tr>\n",
       "      <th>2</th>\n",
       "      <td>Luxembourg</td>\n",
       "      <td>Europe</td>\n",
       "      <td>632275</td>\n",
       "    </tr>\n",
       "  </tbody>\n",
       "</table>\n",
       "</div>"
      ],
      "text/plain": [
       "                Nome   Regiao  Populacao\n",
       "0  Wallis and Futuna  Oceania      11750\n",
       "1            Iceland   Europe     366425\n",
       "2         Luxembourg   Europe     632275"
      ]
     },
     "execution_count": 74,
     "metadata": {},
     "output_type": "execute_result"
    }
   ],
   "source": [
    "nome       = [pais.name['common'] for pais in data.itertuples()]\n",
    "region     = [pais.region for pais in data.itertuples()]\n",
    "population = [pais.population for pais in data.itertuples()]\n",
    "\n",
    "paises = pd.DataFrame({\n",
    "    \"Nome\": nome,\n",
    "    \"Regiao\": region,\n",
    "    \"Populacao\": population\n",
    "})\n",
    "paises.head(3)"
   ]
  },
  {
   "attachments": {},
   "cell_type": "markdown",
   "metadata": {},
   "source": [
    "# Alertas"
   ]
  },
  {
   "cell_type": "code",
   "execution_count": 6,
   "metadata": {},
   "outputs": [],
   "source": [
    "#!pip install plyer \n",
    "from plyer import notification \n",
    "notification.notify(\n",
    "     title='Título da notificação',\n",
    "     message='Mensagem da notificação',\n",
    "     app_name='Nome do aplicativo',\n",
    "     timeout=10 )"
   ]
  },
  {
   "attachments": {},
   "cell_type": "markdown",
   "metadata": {},
   "source": [
    "# schedule"
   ]
  },
  {
   "cell_type": "code",
   "execution_count": 4,
   "metadata": {},
   "outputs": [
    {
     "name": "stdout",
     "output_type": "stream",
     "text": [
      "Executando minha tarefa\n",
      "Executando minha tarefa\n",
      "Executando minha tarefa\n",
      "Executando minha tarefa\n",
      "Executando minha tarefa\n",
      "Executando minha tarefa\n",
      "Executando minha tarefa\n",
      "Executando minha tarefa\n",
      "Executando minha tarefa\n",
      "Executando minha tarefa\n",
      "Executando minha tarefa\n",
      "Executando minha tarefa\n",
      "Executando minha tarefa\n",
      "Executando minha tarefa\n"
     ]
    }
   ],
   "source": [
    "#pip install schedule\n",
    "import schedule\n",
    "import time\n",
    "\n",
    "def minha_tarefa():\n",
    "    print(\"Executando minha tarefa\")\n",
    "#schedule.every(1).minutes.do(minha_tarefa)\n",
    "schedule.every(1).seconds.do(minha_tarefa)\n",
    "\n",
    "while True:\n",
    "    schedule.run_pending()\n",
    "    time.sleep(1)"
   ]
  },
  {
   "cell_type": "code",
   "execution_count": 2,
   "metadata": {},
   "outputs": [
    {
     "name": "stdout",
     "output_type": "stream",
     "text": [
      "Collecting schedule\n",
      "  Downloading schedule-1.2.0-py2.py3-none-any.whl (11 kB)\n",
      "Installing collected packages: schedule\n",
      "Successfully installed schedule-1.2.0\n"
     ]
    },
    {
     "name": "stderr",
     "output_type": "stream",
     "text": [
      "\n",
      "[notice] A new release of pip available: 22.2.2 -> 23.1.2\n",
      "[notice] To update, run: python.exe -m pip install --upgrade pip\n"
     ]
    }
   ],
   "source": []
  },
  {
   "cell_type": "code",
   "execution_count": null,
   "metadata": {},
   "outputs": [],
   "source": []
  }
 ],
 "metadata": {
  "kernelspec": {
   "display_name": "Python 3",
   "language": "python",
   "name": "python3"
  },
  "language_info": {
   "codemirror_mode": {
    "name": "ipython",
    "version": 3
   },
   "file_extension": ".py",
   "mimetype": "text/x-python",
   "name": "python",
   "nbconvert_exporter": "python",
   "pygments_lexer": "ipython3",
   "version": "3.10.6"
  },
  "orig_nbformat": 4
 },
 "nbformat": 4,
 "nbformat_minor": 2
}
